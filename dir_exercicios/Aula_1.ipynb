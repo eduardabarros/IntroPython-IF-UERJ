{
  "nbformat": 4,
  "nbformat_minor": 0,
  "metadata": {
    "colab": {
      "name": "Aula_1.ipynb",
      "provenance": [],
      "authorship_tag": "ABX9TyMhJxFHO27oVP23CRNZrQ2H",
      "include_colab_link": true
    },
    "kernelspec": {
      "name": "python3",
      "display_name": "Python 3"
    },
    "language_info": {
      "name": "python"
    }
  },
  "cells": [
    {
      "cell_type": "markdown",
      "metadata": {
        "id": "view-in-github",
        "colab_type": "text"
      },
      "source": [
        "<a href=\"https://colab.research.google.com/github/eduardabarros/YouTube-CH/blob/main/dir_exercicios/Aula_1.ipynb\" target=\"_parent\"><img src=\"https://colab.research.google.com/assets/colab-badge.svg\" alt=\"Open In Colab\"/></a>"
      ]
    },
    {
      "cell_type": "markdown",
      "source": [
        "**Aula 1**\n",
        "\n",
        "1) Se você fizer uma corrida de 10 quilômetros em 43 minutos e 30 segundos, qual será seu tempo médio por milha? Qual é a sua velocidade média em milha por hora? (Dica: há 1,61 quilômetros em uma milha)"
      ],
      "metadata": {
        "id": "lNqtBemzHG7q"
      }
    },
    {
      "cell_type": "code",
      "source": [
        "import math\n",
        "\n",
        "x = 10/1.61         # convertendo de km para milha\n",
        "t1 = 43/60          # convertendo de minutos para horas\n",
        "t2 = 30/3600        # convertendo de segundos para horas\n",
        "t = t1 + t2\n",
        "#print(x,t1,t2,t)\n",
        "\n",
        "v = x/t\n",
        "\n",
        "print(round(v,2),'milha/hora')"    # se usa round para se arredondar a resposta final e (x,2) fará com que apareça apenas 2 algarismos significativos nesta resposta.
       
      ],
      "metadata": {
        "colab": {
          "base_uri": "https://localhost:8080/"
        },
        "id": "xDKbtXQCH0dS",
        "outputId": "ad3408a2-cd6c-4dfa-a6a6-7ea60e850c8b"
      },
      "execution_count": null,
      "outputs": [
        {
          "output_type": "stream",
          "name": "stdout",
          "text": [
            "8.57 milha/hora\n"
          ]
        }
      ]
    },
    {
      "cell_type": "markdown",
      "source": [
        "2) Desde sua varanda você escuta o som do primeiro fogo artifícial do reveillon, 3 segundos depois de ver a luz, qual a distância? (o som tem velocidade 343 m/s e a luz 3 x 10⁸ m/s)"
      ],
      "metadata": {
        "id": "OomH4MMDNU4a"
      }
    },
    {
      "cell_type": "code",
      "source": [
        "import math\n",
        "\n",
        "t = 3                    # unidade: s\n",
        "v_som = 343              # unidade: m/s\n",
        "\n",
        "x = v_som*t\n",
        "\n",
        "print(x,'metros')"
      ],
      "metadata": {
        "colab": {
          "base_uri": "https://localhost:8080/"
        },
        "id": "3XtRVIFSOENQ",
        "outputId": "3931cf24-c970-4cfb-fbf8-0443ae201e35"
      },
      "execution_count": null,
      "outputs": [
        {
          "output_type": "stream",
          "name": "stdout",
          "text": [
            "1029 metros\n"
          ]
        }
      ]
    },
    {
      "cell_type": "markdown",
      "source": [
        "3) Ache os zeros da função y = 3x² - 4x - 10"
      ],
      "metadata": {
        "id": "2pe4yDEFP110"
      }
    },
    {
      "cell_type": "code",
      "source": [
        "import math\n",
        "\n",
        "# bascara\n",
        "\n",
        "a = 3\n",
        "b = -4\n",
        "c = -10\n",
        "\n",
        "delta = (b**2)-(4*a*c)\n",
        "\n",
        "# encontrando os valores de x1 e x2\n",
        "\n",
        "x1 = (-b + math.sqrt(delta))/(2*a)\n",
        "\n",
        "x2 = (-b - math.sqrt(delta))/(2*a)\n",
        "\n",
        "print('delta =',delta,'   x1 =',round(x1,2),'   x2 =',round(x2,2))\n",
        "\n"
      ],
      "metadata": {
        "colab": {
          "base_uri": "https://localhost:8080/"
        },
        "id": "g3HTiictQLLf",
        "outputId": "96ece085-f0ea-414b-ca4c-b141851d3346"
      },
      "execution_count": null,
      "outputs": [
        {
          "output_type": "stream",
          "name": "stdout",
          "text": [
            "delta = 136    x1 = 2.61    x2 = -1.28\n"
          ]
        }
      ]
    },
    {
      "cell_type": "markdown",
      "source": [
        "4) Se ao meio dia a sombra de um poste de 5 m de altura tem apenas 50 cm de comprimento no chão, qual o ângulo zenital do sol?"
      ],
      "metadata": {
        "id": "SnBjtJQiTh4j"
      }
    },
    {
      "cell_type": "code",
      "source": [
        "h = 5          # unidade: m\n",
        "x = 0,5        # unidade: m\n",
        "\n",
        "# buguei nesse negócio de ângulo zenital"
      ],
      "metadata": {
        "id": "c8wNe8QNT6RX"
      },
      "execution_count": null,
      "outputs": []
    },
    {
      "cell_type": "markdown",
      "source": [
        "5) Calculo do IMC: IMC = M/A² (com a massa em kg e a altura em m). Um valor saudável estará - em geral - entre 20 e 25.\n",
        "\n",
        "a) Calcule o seu IMC\n",
        "\n",
        "b) Um bebê de 6 meses \"gorducho\" tem 70 cm de \"comprimento\" e 11 kg de massa. Qual o IMC dele?"
      ],
      "metadata": {
        "id": "9lDYkLYUU1ZQ"
      }
    },
    {
      "cell_type": "code",
      "source": [
        "# letra a\n",
        "\n",
        "M = 54       # unidade: kg\n",
        "A = 1.60     # unidade: m\n",
        "\n",
        "IMC = M/(A**2)\n",
        "\n",
        "print(round(IMC,2))"
      ],
      "metadata": {
        "colab": {
          "base_uri": "https://localhost:8080/"
        },
        "id": "FSy4dBbUkKm9",
        "outputId": "9a8a7bee-2820-4cc3-cb6b-f6324006c087"
      },
      "execution_count": null,
      "outputs": [
        {
          "output_type": "stream",
          "name": "stdout",
          "text": [
            "21.09\n"
          ]
        }
      ]
    },
    {
      "cell_type": "code",
      "source": [
        "# letra b\n",
        "\n",
        "M = 11       # unidade: kg\n",
        "A = 0.7      # unidade: m\n",
        "\n",
        "IMC = M/(A**2)\n",
        "\n",
        "print(round(IMC,2))"
      ],
      "metadata": {
        "colab": {
          "base_uri": "https://localhost:8080/"
        },
        "id": "2OoNu1q8ktYc",
        "outputId": "22ebb8c0-6812-408a-ac35-f4398707b1a0"
      },
      "execution_count": null,
      "outputs": [
        {
          "output_type": "stream",
          "name": "stdout",
          "text": [
            "22.45\n"
          ]
        }
      ]
    },
    {
      "cell_type": "markdown",
      "source": [
        "6) Calcule a velocidade final de um objeto em queda livre a partir de 3 metros de altura (desprezando a resistência do ar). Calcule o tempo que esse objeto demora para cair."
      ],
      "metadata": {
        "id": "7WAuhiUYlFva"
      }
    },
    {
      "cell_type": "code",
      "source": [
        "import math\n",
        "\n",
        "# primeiro relacionamos a altura com o tempo\n",
        "\n",
        "h = 3       # unidade: m\n",
        "g = 9.8     # unidade: m/s\n",
        "\n",
        "t = math.sqrt((2*h)/g)\n",
        "\n",
        "v = g*t\n",
        "\n",
        "print('t =',round(t,2),'s e','v =',round(v,2),'m/s')"
      ],
      "metadata": {
        "colab": {
          "base_uri": "https://localhost:8080/"
        },
        "id": "yVtDkoDHlbiQ",
        "outputId": "e4e64637-afbc-44d1-9955-84508ec6d659"
      },
      "execution_count": null,
      "outputs": [
        {
          "output_type": "stream",
          "name": "stdout",
          "text": [
            "t = 0.78 s e v = 7.67 m/s\n"
          ]
        }
      ]
    }
  ]
}
